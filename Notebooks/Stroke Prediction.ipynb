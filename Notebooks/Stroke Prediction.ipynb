{
 "cells": [
  {
   "cell_type": "code",
   "execution_count": 48,
   "metadata": {},
   "outputs": [],
   "source": [
    "import pandas as pd\n",
    "import numpy as np\n",
    "import seaborn as sns\n",
    "import matplotlib.pyplot as plt\n",
    "\n",
    "import warnings\n",
    "warnings.filterwarnings('ignore')"
   ]
  },
  {
   "cell_type": "code",
   "execution_count": 49,
   "metadata": {},
   "outputs": [
    {
     "data": {
      "text/html": [
       "<div>\n",
       "<style scoped>\n",
       "    .dataframe tbody tr th:only-of-type {\n",
       "        vertical-align: middle;\n",
       "    }\n",
       "\n",
       "    .dataframe tbody tr th {\n",
       "        vertical-align: top;\n",
       "    }\n",
       "\n",
       "    .dataframe thead th {\n",
       "        text-align: right;\n",
       "    }\n",
       "</style>\n",
       "<table border=\"1\" class=\"dataframe\">\n",
       "  <thead>\n",
       "    <tr style=\"text-align: right;\">\n",
       "      <th></th>\n",
       "      <th>id</th>\n",
       "      <th>gender</th>\n",
       "      <th>age</th>\n",
       "      <th>hypertension</th>\n",
       "      <th>heart_disease</th>\n",
       "      <th>ever_married</th>\n",
       "      <th>work_type</th>\n",
       "      <th>Residence_type</th>\n",
       "      <th>avg_glucose_level</th>\n",
       "      <th>bmi</th>\n",
       "      <th>smoking_status</th>\n",
       "      <th>stroke</th>\n",
       "    </tr>\n",
       "  </thead>\n",
       "  <tbody>\n",
       "    <tr>\n",
       "      <th>0</th>\n",
       "      <td>9046</td>\n",
       "      <td>Male</td>\n",
       "      <td>67.0</td>\n",
       "      <td>0</td>\n",
       "      <td>1</td>\n",
       "      <td>Yes</td>\n",
       "      <td>Private</td>\n",
       "      <td>Urban</td>\n",
       "      <td>228.69</td>\n",
       "      <td>36.6</td>\n",
       "      <td>formerly smoked</td>\n",
       "      <td>1</td>\n",
       "    </tr>\n",
       "    <tr>\n",
       "      <th>1</th>\n",
       "      <td>51676</td>\n",
       "      <td>Female</td>\n",
       "      <td>61.0</td>\n",
       "      <td>0</td>\n",
       "      <td>0</td>\n",
       "      <td>Yes</td>\n",
       "      <td>Self-employed</td>\n",
       "      <td>Rural</td>\n",
       "      <td>202.21</td>\n",
       "      <td>NaN</td>\n",
       "      <td>never smoked</td>\n",
       "      <td>1</td>\n",
       "    </tr>\n",
       "    <tr>\n",
       "      <th>2</th>\n",
       "      <td>31112</td>\n",
       "      <td>Male</td>\n",
       "      <td>80.0</td>\n",
       "      <td>0</td>\n",
       "      <td>1</td>\n",
       "      <td>Yes</td>\n",
       "      <td>Private</td>\n",
       "      <td>Rural</td>\n",
       "      <td>105.92</td>\n",
       "      <td>32.5</td>\n",
       "      <td>never smoked</td>\n",
       "      <td>1</td>\n",
       "    </tr>\n",
       "    <tr>\n",
       "      <th>3</th>\n",
       "      <td>60182</td>\n",
       "      <td>Female</td>\n",
       "      <td>49.0</td>\n",
       "      <td>0</td>\n",
       "      <td>0</td>\n",
       "      <td>Yes</td>\n",
       "      <td>Private</td>\n",
       "      <td>Urban</td>\n",
       "      <td>171.23</td>\n",
       "      <td>34.4</td>\n",
       "      <td>smokes</td>\n",
       "      <td>1</td>\n",
       "    </tr>\n",
       "    <tr>\n",
       "      <th>4</th>\n",
       "      <td>1665</td>\n",
       "      <td>Female</td>\n",
       "      <td>79.0</td>\n",
       "      <td>1</td>\n",
       "      <td>0</td>\n",
       "      <td>Yes</td>\n",
       "      <td>Self-employed</td>\n",
       "      <td>Rural</td>\n",
       "      <td>174.12</td>\n",
       "      <td>24.0</td>\n",
       "      <td>never smoked</td>\n",
       "      <td>1</td>\n",
       "    </tr>\n",
       "  </tbody>\n",
       "</table>\n",
       "</div>"
      ],
      "text/plain": [
       "      id  gender   age  hypertension  heart_disease ever_married  \\\n",
       "0   9046    Male  67.0             0              1          Yes   \n",
       "1  51676  Female  61.0             0              0          Yes   \n",
       "2  31112    Male  80.0             0              1          Yes   \n",
       "3  60182  Female  49.0             0              0          Yes   \n",
       "4   1665  Female  79.0             1              0          Yes   \n",
       "\n",
       "       work_type Residence_type  avg_glucose_level   bmi   smoking_status  \\\n",
       "0        Private          Urban             228.69  36.6  formerly smoked   \n",
       "1  Self-employed          Rural             202.21   NaN     never smoked   \n",
       "2        Private          Rural             105.92  32.5     never smoked   \n",
       "3        Private          Urban             171.23  34.4           smokes   \n",
       "4  Self-employed          Rural             174.12  24.0     never smoked   \n",
       "\n",
       "   stroke  \n",
       "0       1  \n",
       "1       1  \n",
       "2       1  \n",
       "3       1  \n",
       "4       1  "
      ]
     },
     "execution_count": 49,
     "metadata": {},
     "output_type": "execute_result"
    }
   ],
   "source": [
    "data_df = pd.read_csv('../Resources/Files/healthcare-dataset-stroke-data.csv')\n",
    "\n",
    "data_df.head()"
   ]
  },
  {
   "cell_type": "markdown",
   "metadata": {},
   "source": [
    "Attribute Information\n",
    "- 1) id: unique identifier\n",
    "- 2) gender: \"Male\", \"Female\" or \"Other\"\n",
    "- 3) age: age of the patient\n",
    "- 4) hypertension: 0 if the patient doesn't have hypertension, 1 if the patient has hypertension\n",
    "- 5) heart_disease: 0 if the patient doesn't have any heart diseases, 1 if the patient has a heart disease\n",
    "- 6) ever_married: \"No\" or \"Yes\"\n",
    "- 7) work_type: \"children\", \"Govt_jov\", \"Never_worked\", \"Private\" or \"Self-employed\"\n",
    "- 8) Residence_type: \"Rural\" or \"Urban\"\n",
    "- 9) avg_glucose_level: average glucose level in blood\n",
    "- 10) bmi: body mass index\n",
    "- 11) smoking_status: \"formerly smoked\", \"never smoked\", \"smokes\" or \"Unknown\"*\n",
    "- 12) stroke: 1 if the patient had a stroke or 0 if not\n",
    "\n",
    "*Note: \"Unknown\" in smoking_status means that the information is unavailable for this patient"
   ]
  },
  {
   "cell_type": "code",
   "execution_count": 50,
   "metadata": {},
   "outputs": [
    {
     "name": "stdout",
     "output_type": "stream",
     "text": [
      "The shape of this data set is:  (5110, 12)\n"
     ]
    }
   ],
   "source": [
    "print('The shape of this data set is: ', data_df.shape)"
   ]
  },
  {
   "cell_type": "markdown",
   "metadata": {},
   "source": [
    "### Data Cleaning Section"
   ]
  },
  {
   "cell_type": "code",
   "execution_count": 51,
   "metadata": {},
   "outputs": [
    {
     "data": {
      "text/html": [
       "<div>\n",
       "<style scoped>\n",
       "    .dataframe tbody tr th:only-of-type {\n",
       "        vertical-align: middle;\n",
       "    }\n",
       "\n",
       "    .dataframe tbody tr th {\n",
       "        vertical-align: top;\n",
       "    }\n",
       "\n",
       "    .dataframe thead th {\n",
       "        text-align: right;\n",
       "    }\n",
       "</style>\n",
       "<table border=\"1\" class=\"dataframe\">\n",
       "  <thead>\n",
       "    <tr style=\"text-align: right;\">\n",
       "      <th></th>\n",
       "      <th>unique count</th>\n",
       "    </tr>\n",
       "  </thead>\n",
       "  <tbody>\n",
       "    <tr>\n",
       "      <th>id</th>\n",
       "      <td>5110</td>\n",
       "    </tr>\n",
       "    <tr>\n",
       "      <th>gender</th>\n",
       "      <td>3</td>\n",
       "    </tr>\n",
       "    <tr>\n",
       "      <th>age</th>\n",
       "      <td>104</td>\n",
       "    </tr>\n",
       "    <tr>\n",
       "      <th>hypertension</th>\n",
       "      <td>2</td>\n",
       "    </tr>\n",
       "    <tr>\n",
       "      <th>heart_disease</th>\n",
       "      <td>2</td>\n",
       "    </tr>\n",
       "    <tr>\n",
       "      <th>ever_married</th>\n",
       "      <td>2</td>\n",
       "    </tr>\n",
       "    <tr>\n",
       "      <th>work_type</th>\n",
       "      <td>5</td>\n",
       "    </tr>\n",
       "    <tr>\n",
       "      <th>Residence_type</th>\n",
       "      <td>2</td>\n",
       "    </tr>\n",
       "    <tr>\n",
       "      <th>avg_glucose_level</th>\n",
       "      <td>3979</td>\n",
       "    </tr>\n",
       "    <tr>\n",
       "      <th>bmi</th>\n",
       "      <td>418</td>\n",
       "    </tr>\n",
       "    <tr>\n",
       "      <th>smoking_status</th>\n",
       "      <td>4</td>\n",
       "    </tr>\n",
       "    <tr>\n",
       "      <th>stroke</th>\n",
       "      <td>2</td>\n",
       "    </tr>\n",
       "  </tbody>\n",
       "</table>\n",
       "</div>"
      ],
      "text/plain": [
       "                   unique count\n",
       "id                         5110\n",
       "gender                        3\n",
       "age                         104\n",
       "hypertension                  2\n",
       "heart_disease                 2\n",
       "ever_married                  2\n",
       "work_type                     5\n",
       "Residence_type                2\n",
       "avg_glucose_level          3979\n",
       "bmi                         418\n",
       "smoking_status                4\n",
       "stroke                        2"
      ]
     },
     "execution_count": 51,
     "metadata": {},
     "output_type": "execute_result"
    }
   ],
   "source": [
    "# let's get a unique count of values for each column to\n",
    "# determine whether the column is continuous or categorical\n",
    "\n",
    "column_dict = {}\n",
    "for column in list(data_df.columns):\n",
    "    column_dict[column] = data_df[column].value_counts().shape[0]\n",
    "    \n",
    "pd.DataFrame(column_dict, index = ['unique count']).transpose()"
   ]
  },
  {
   "cell_type": "code",
   "execution_count": 13,
   "metadata": {},
   "outputs": [
    {
     "data": {
      "text/plain": [
       "count    5110.000000\n",
       "mean       43.226614\n",
       "std        22.612647\n",
       "min         0.080000\n",
       "25%        25.000000\n",
       "50%        45.000000\n",
       "75%        61.000000\n",
       "max        82.000000\n",
       "Name: age, dtype: float64"
      ]
     },
     "execution_count": 13,
     "metadata": {},
     "output_type": "execute_result"
    }
   ],
   "source": [
    "# we see above that there are 104 different ages. decimal ages aren't\n",
    "# helpful. Let's see what the age distribution is so that we can\n",
    "# decide whether to round up to 1 or take a different action\n",
    "\n",
    "data_df['age'].describe().transpose()"
   ]
  },
  {
   "cell_type": "code",
   "execution_count": 14,
   "metadata": {},
   "outputs": [
    {
     "data": {
      "text/plain": [
       "id                     0\n",
       "gender                 0\n",
       "age                    0\n",
       "hypertension           0\n",
       "heart_disease          0\n",
       "ever_married           0\n",
       "work_type              0\n",
       "Residence_type         0\n",
       "avg_glucose_level      0\n",
       "bmi                  201\n",
       "smoking_status         0\n",
       "stroke                 0\n",
       "dtype: int64"
      ]
     },
     "execution_count": 14,
     "metadata": {},
     "output_type": "execute_result"
    }
   ],
   "source": [
    "data_df.isnull().sum()"
   ]
  },
  {
   "cell_type": "code",
   "execution_count": 23,
   "metadata": {
    "scrolled": true
   },
   "outputs": [
    {
     "data": {
      "text/plain": [
       "Series([], dtype: int64)"
      ]
     },
     "execution_count": 23,
     "metadata": {},
     "output_type": "execute_result"
    }
   ],
   "source": [
    "data_df.loc[data_df['bmi'].isnull() == True,['stroke']].value_counts()"
   ]
  },
  {
   "cell_type": "code",
   "execution_count": 24,
   "metadata": {},
   "outputs": [],
   "source": [
    "# fuck it, we're cutting them"
   ]
  },
  {
   "cell_type": "code",
   "execution_count": 25,
   "metadata": {},
   "outputs": [],
   "source": [
    "data_df = data_df.loc[data_df['bmi'].isnull() != True,:]"
   ]
  },
  {
   "cell_type": "code",
   "execution_count": 26,
   "metadata": {},
   "outputs": [
    {
     "data": {
      "text/plain": [
       "19"
      ]
     },
     "execution_count": 26,
     "metadata": {},
     "output_type": "execute_result"
    }
   ],
   "source": [
    "# How many individuals exactly in this data set are under 1?\n",
    "\n",
    "data_df.loc[data_df['age'] < 1, ['age']].shape[0]"
   ]
  },
  {
   "cell_type": "code",
   "execution_count": 27,
   "metadata": {},
   "outputs": [
    {
     "data": {
      "text/plain": [
       "Text(0, 0.5, '')"
      ]
     },
     "execution_count": 27,
     "metadata": {},
     "output_type": "execute_result"
    },
    {
     "data": {
      "image/png": "[encoded data removed]",
      "text/plain": [
       "<Figure size 432x288 with 1 Axes>"
      ]
     },
     "metadata": {
      "needs_background": "light"
     },
     "output_type": "display_data"
    }
   ],
   "source": [
    "# let's look at the distribution of those under the age of 1\n",
    "under_1_df = data_df.loc[data_df['age'] < 1, :]\n",
    "fig = sns.kdeplot(data = under_1_df,\n",
    "           x = 'age',\n",
    "           fill = False,\n",
    "           palette = ['#80000ff', '#da8829'],\n",
    "           alpha = .5,\n",
    "           linewidth = 0.5)\n",
    "fig.set_xlabel('')\n",
    "fig.set_ylabel('')"
   ]
  },
  {
   "cell_type": "code",
   "execution_count": 28,
   "metadata": {},
   "outputs": [
    {
     "data": {
      "text/plain": [
       "0.5    19\n",
       "Name: age, dtype: int64"
      ]
     },
     "execution_count": 28,
     "metadata": {},
     "output_type": "execute_result"
    }
   ],
   "source": [
    "# as we can see here, the age goes under 0. I want to check one more\n",
    "# time to see if that's actually the case, when we asked pandas\n",
    "# to describe the age for us it didn't indicate there were negative\n",
    "# values so I just want to check to make sure.\n",
    "\n",
    "under_1_df['age'].value_counts()"
   ]
  },
  {
   "cell_type": "code",
   "execution_count": 29,
   "metadata": {},
   "outputs": [],
   "source": [
    "# great, so no negative values. The accuracy of these ages is\n",
    "# interesting, I don't want this to mess up the model and over-bias\n",
    "# the model, so we will simply round this up to 1 and 0.5\n",
    "\n",
    "data_df['age'] = np.where(data_df['age'].between(0.5,1),\n",
    "                          1, \n",
    "                          data_df['age'])\n",
    "\n",
    "data_df['age'] = data_df['age'].mask(data_df['age'] <= 0.5, 0.5)"
   ]
  },
  {
   "cell_type": "code",
   "execution_count": 30,
   "metadata": {},
   "outputs": [
    {
     "data": {
      "text/plain": [
       "1.0    47\n",
       "Name: age, dtype: int64"
      ]
     },
     "execution_count": 30,
     "metadata": {},
     "output_type": "execute_result"
    }
   ],
   "source": [
    "# we can come back to this later if we feel we need to round down to\n",
    "# zero for the ages between 0 and 0.5\n",
    "\n",
    "under_1_df = data_df.loc[data_df['age'] <= 1, :]\n",
    "under_1_df['age'].value_counts()"
   ]
  },
  {
   "cell_type": "code",
   "execution_count": 31,
   "metadata": {},
   "outputs": [
    {
     "data": {
      "text/plain": [
       "Female    2897\n",
       "Male      2011\n",
       "Other        1\n",
       "Name: sex, dtype: int64"
      ]
     },
     "execution_count": 31,
     "metadata": {},
     "output_type": "execute_result"
    }
   ],
   "source": [
    "# cool, so we fixed the age issue. next we come across gender. gender\n",
    "# really should be sex in this case, and let's see how many others there\n",
    "# are to determine whether removing them from the data set will impact\n",
    "# the predictions. later on we can include them, but right now we want to\n",
    "# be as accurate as possible and gain as much knowledge on the differences\n",
    "# between males and females and not worry about other. maybe after we do\n",
    "# males and females we can include other to see how it affects data,\n",
    "# because maybe those who 'identify' as 'other' exhibit behaviors in\n",
    "# their lifestyles to justify actually considering how those behaviors\n",
    "# impact their physical health. \n",
    "\n",
    "data_df = data_df.rename(columns = {'gender': 'sex'})\n",
    "data_df['sex'].value_counts()"
   ]
  },
  {
   "cell_type": "code",
   "execution_count": 32,
   "metadata": {},
   "outputs": [
    {
     "data": {
      "text/plain": [
       "Female    2897\n",
       "Male      2011\n",
       "Name: sex, dtype: int64"
      ]
     },
     "execution_count": 32,
     "metadata": {},
     "output_type": "execute_result"
    }
   ],
   "source": [
    "# as we can see here, there is only one 'other', so we can simply drop\n",
    "# this row with minimal repurcussions in our analysis and predictions.\n",
    "\n",
    "data_df = data_df.loc[data_df['sex'] != 'Other',:]\n",
    "\n",
    "data_df = data_df.rename(columns = {'gender': 'sex'})\n",
    "data_df['sex'].value_counts()"
   ]
  },
  {
   "cell_type": "code",
   "execution_count": 33,
   "metadata": {},
   "outputs": [],
   "source": [
    "# next, we consider work type, which is covered by the 'work_type'\n",
    "# column. work type can be important is it could indicate the level of\n",
    "# stress a particular patient is experiencing. so we will keep it."
   ]
  },
  {
   "cell_type": "code",
   "execution_count": 34,
   "metadata": {},
   "outputs": [
    {
     "name": "stdout",
     "output_type": "stream",
     "text": [
      "never smoked  ---  1852\n",
      "Unknown  ---  1483\n",
      "formerly smoked  ---  836\n",
      "smokes  ---  737\n"
     ]
    }
   ],
   "source": [
    "# our last column that we will consider is smoking status. the one issue\n",
    "# that i can see needing to be fixed is the unknown. Let's consider how\n",
    "# many unknowns there are prior to determining what to do, as it could\n",
    "# simply be so few that we can remove them from the set without worrying\n",
    "# too much about impact on the analysis\n",
    "smoking_values = data_df['smoking_status'].value_counts().index\n",
    "smoking_status = data_df['smoking_status'].value_counts().tolist()\n",
    "for i in range(0, len(smoking_status)):\n",
    "    print(smoking_values[i], ' --- ', smoking_status[i])"
   ]
  },
  {
   "cell_type": "code",
   "execution_count": 35,
   "metadata": {},
   "outputs": [],
   "source": [
    "# because unknown is a significant portion of the data set, let's \n",
    "# distribute them proportionally to the other categories, as this\n",
    "# will help maintain balance. Because of this, it can be said that\n",
    "# we are assuming these values are randomly selected and that the \n",
    "# patients were not intentionally picked because of certain habits.\n",
    "\n",
    "never_smoked_ratio = smoking_status[0]/(smoking_status[0] + smoking_status[2] + smoking_status[3])\n",
    "formerly_smoked_ratio = smoking_status[2]/(smoking_status[2] + smoking_status[3]) \n",
    "smokes_ratio = smoking_status[3]/smoking_status[3]\n",
    "\n",
    "# let's get the id's of the unknowns so that we can randomly pick from\n",
    "# them and alter their \"smoking_status\" value to one of the other\n",
    "# categories\n",
    "\n",
    "list_of_ids = data_df.loc[data_df['smoking_status'] == 'Unknown',\n",
    "                         ['id']]['id']"
   ]
  },
  {
   "cell_type": "code",
   "execution_count": 36,
   "metadata": {},
   "outputs": [],
   "source": [
    "to_be_never_smoked = list_of_ids.sample(frac = never_smoked_ratio).tolist()\n",
    "for id_ in to_be_never_smoked:\n",
    "    to_be_changed = data_df.loc[data_df['id'] == id_,:]\n",
    "    to_be_changed = to_be_changed.mask(to_be_changed['smoking_status'] == 'Unknown',\n",
    "                                      'never smoked')\n",
    "    data_df.loc[data_df['id'] == id_,['smoking_status']] = to_be_changed['smoking_status']\n",
    "\n",
    "list_of_ids = data_df.loc[data_df['smoking_status'] == 'Unknown',\n",
    "                         ['id']]['id']\n",
    "\n",
    "####################################################################\n",
    "to_be_formerly_smoked = list_of_ids.sample(frac = formerly_smoked_ratio).tolist()\n",
    "for id_ in to_be_formerly_smoked:\n",
    "    to_be_changed = data_df.loc[data_df['id'] == id_,:]\n",
    "    to_be_changed = to_be_changed.mask(to_be_changed['smoking_status'] == 'Unknown',\n",
    "                                      'formerly smoked')\n",
    "    data_df.loc[data_df['id'] == id_,['smoking_status']] = to_be_changed['smoking_status']\n",
    "    \n",
    "list_of_ids = data_df.loc[data_df['smoking_status'] == 'Unknown',\n",
    "                         ['id']]['id']\n",
    "\n",
    "####################################################################\n",
    "to_be_smokes = list_of_ids.sample(frac = smokes_ratio).tolist()\n",
    "for id_ in to_be_smokes:\n",
    "    to_be_changed = data_df.loc[data_df['id'] == id_,:]\n",
    "    to_be_changed = to_be_changed.mask(to_be_changed['smoking_status'] == 'Unknown',\n",
    "                                      'smokes')\n",
    "    data_df.loc[data_df['id'] == id_,['smoking_status']] = to_be_changed['smoking_status']"
   ]
  },
  {
   "cell_type": "code",
   "execution_count": 37,
   "metadata": {},
   "outputs": [
    {
     "name": "stdout",
     "output_type": "stream",
     "text": [
      "never smoked       2654\n",
      "formerly smoked    1198\n",
      "smokes             1056\n",
      "Name: smoking_status, dtype: int64\n",
      "never_smoked ratio before versus after: \n",
      "never smoked before:  0.5407299270072993 - after:  0.5193737769080234 \n",
      "formerly smoked before:  0.5314685314685315 - after 0.5314995563442768 \n",
      "smokes before:  1.0 - after 1.0\n"
     ]
    }
   ],
   "source": [
    "after_count = data_df['smoking_status'].value_counts()\n",
    "print(after_count)\n",
    "print('never_smoked ratio before versus after:',\n",
    "     '\\nnever smoked before: ', never_smoked_ratio, '- after: ', after_count[0]/5110,\n",
    "     '\\nformerly smoked before: ', formerly_smoked_ratio, '- after', after_count[1]/(after_count[1] + after_count[2]),\n",
    "      '\\nsmokes before: ', smokes_ratio, '- after', after_count[2]/after_count[2])"
   ]
  },
  {
   "cell_type": "markdown",
   "metadata": {},
   "source": [
    "### Data Exploration"
   ]
  },
  {
   "cell_type": "code",
   "execution_count": 38,
   "metadata": {},
   "outputs": [
    {
     "ename": "TypeError",
     "evalue": "The x variable is categorical, but one of ['numeric', 'datetime'] is required",
     "output_type": "error",
     "traceback": [
      "\u001b[0;31m---------------------------------------------------------------------------\u001b[0m",
      "\u001b[0;31mTypeError\u001b[0m                                 Traceback (most recent call last)",
      "\u001b[0;32m<ipython-input-38-9e885c9a270a>\u001b[0m in \u001b[0;36m<module>\u001b[0;34m\u001b[0m\n\u001b[1;32m     64\u001b[0m \u001b[0;31m# Sex\u001b[0m\u001b[0;34m\u001b[0m\u001b[0;34m\u001b[0m\u001b[0;34m\u001b[0m\u001b[0m\n\u001b[1;32m     65\u001b[0m \u001b[0max3\u001b[0m\u001b[0;34m.\u001b[0m\u001b[0mgrid\u001b[0m\u001b[0;34m(\u001b[0m\u001b[0mcolor\u001b[0m\u001b[0;34m=\u001b[0m\u001b[0;34m'#000000'\u001b[0m\u001b[0;34m,\u001b[0m \u001b[0mlinestyle\u001b[0m\u001b[0;34m=\u001b[0m\u001b[0;34m':'\u001b[0m\u001b[0;34m,\u001b[0m \u001b[0maxis\u001b[0m\u001b[0;34m=\u001b[0m\u001b[0;34m'y'\u001b[0m\u001b[0;34m,\u001b[0m \u001b[0mzorder\u001b[0m\u001b[0;34m=\u001b[0m\u001b[0;36m0\u001b[0m\u001b[0;34m,\u001b[0m  \u001b[0mdashes\u001b[0m\u001b[0;34m=\u001b[0m\u001b[0;34m(\u001b[0m\u001b[0;36m1\u001b[0m\u001b[0;34m,\u001b[0m\u001b[0;36m5\u001b[0m\u001b[0;34m)\u001b[0m\u001b[0;34m)\u001b[0m\u001b[0;34m\u001b[0m\u001b[0;34m\u001b[0m\u001b[0m\n\u001b[0;32m---> 66\u001b[0;31m \u001b[0msns\u001b[0m\u001b[0;34m.\u001b[0m\u001b[0mkdeplot\u001b[0m\u001b[0;34m(\u001b[0m\u001b[0max\u001b[0m\u001b[0;34m=\u001b[0m\u001b[0max3\u001b[0m\u001b[0;34m,\u001b[0m \u001b[0mdata\u001b[0m\u001b[0;34m=\u001b[0m\u001b[0mdata_df\u001b[0m\u001b[0;34m,\u001b[0m \u001b[0mx\u001b[0m\u001b[0;34m=\u001b[0m\u001b[0;34m'sex'\u001b[0m\u001b[0;34m,\u001b[0m\u001b[0mhue\u001b[0m\u001b[0;34m=\u001b[0m\u001b[0;34m\"stroke\"\u001b[0m\u001b[0;34m,\u001b[0m \u001b[0mfill\u001b[0m\u001b[0;34m=\u001b[0m\u001b[0;32mTrue\u001b[0m\u001b[0;34m,\u001b[0m \u001b[0malpha\u001b[0m\u001b[0;34m=\u001b[0m\u001b[0;36m.5\u001b[0m\u001b[0;34m,\u001b[0m \u001b[0mlinewidth\u001b[0m\u001b[0;34m=\u001b[0m\u001b[0;36m0\u001b[0m\u001b[0;34m)\u001b[0m\u001b[0;34m\u001b[0m\u001b[0;34m\u001b[0m\u001b[0m\n\u001b[0m\u001b[1;32m     67\u001b[0m \u001b[0max3\u001b[0m\u001b[0;34m.\u001b[0m\u001b[0mset_xlabel\u001b[0m\u001b[0;34m(\u001b[0m\u001b[0;34m\"\"\u001b[0m\u001b[0;34m)\u001b[0m\u001b[0;34m\u001b[0m\u001b[0;34m\u001b[0m\u001b[0m\n\u001b[1;32m     68\u001b[0m \u001b[0max3\u001b[0m\u001b[0;34m.\u001b[0m\u001b[0mset_ylabel\u001b[0m\u001b[0;34m(\u001b[0m\u001b[0;34m\"\"\u001b[0m\u001b[0;34m)\u001b[0m\u001b[0;34m\u001b[0m\u001b[0;34m\u001b[0m\u001b[0m\n",
      "\u001b[0;32m/opt/anaconda3/lib/python3.7/site-packages/seaborn/_decorators.py\u001b[0m in \u001b[0;36minner_f\u001b[0;34m(*args, **kwargs)\u001b[0m\n\u001b[1;32m     44\u001b[0m             )\n\u001b[1;32m     45\u001b[0m         \u001b[0mkwargs\u001b[0m\u001b[0;34m.\u001b[0m\u001b[0mupdate\u001b[0m\u001b[0;34m(\u001b[0m\u001b[0;34m{\u001b[0m\u001b[0mk\u001b[0m\u001b[0;34m:\u001b[0m \u001b[0marg\u001b[0m \u001b[0;32mfor\u001b[0m \u001b[0mk\u001b[0m\u001b[0;34m,\u001b[0m \u001b[0marg\u001b[0m \u001b[0;32min\u001b[0m \u001b[0mzip\u001b[0m\u001b[0;34m(\u001b[0m\u001b[0msig\u001b[0m\u001b[0;34m.\u001b[0m\u001b[0mparameters\u001b[0m\u001b[0;34m,\u001b[0m \u001b[0margs\u001b[0m\u001b[0;34m)\u001b[0m\u001b[0;34m}\u001b[0m\u001b[0;34m)\u001b[0m\u001b[0;34m\u001b[0m\u001b[0;34m\u001b[0m\u001b[0m\n\u001b[0;32m---> 46\u001b[0;31m         \u001b[0;32mreturn\u001b[0m \u001b[0mf\u001b[0m\u001b[0;34m(\u001b[0m\u001b[0;34m**\u001b[0m\u001b[0mkwargs\u001b[0m\u001b[0;34m)\u001b[0m\u001b[0;34m\u001b[0m\u001b[0;34m\u001b[0m\u001b[0m\n\u001b[0m\u001b[1;32m     47\u001b[0m     \u001b[0;32mreturn\u001b[0m \u001b[0minner_f\u001b[0m\u001b[0;34m\u001b[0m\u001b[0;34m\u001b[0m\u001b[0m\n\u001b[1;32m     48\u001b[0m \u001b[0;34m\u001b[0m\u001b[0m\n",
      "\u001b[0;32m/opt/anaconda3/lib/python3.7/site-packages/seaborn/distributions.py\u001b[0m in \u001b[0;36mkdeplot\u001b[0;34m(x, y, shade, vertical, kernel, bw, gridsize, cut, clip, legend, cumulative, shade_lowest, cbar, cbar_ax, cbar_kws, ax, weights, hue, palette, hue_order, hue_norm, multiple, common_norm, common_grid, levels, thresh, bw_method, bw_adjust, log_scale, color, fill, data, data2, **kwargs)\u001b[0m\n\u001b[1;32m   1718\u001b[0m     )\n\u001b[1;32m   1719\u001b[0m \u001b[0;34m\u001b[0m\u001b[0m\n\u001b[0;32m-> 1720\u001b[0;31m     \u001b[0mp\u001b[0m\u001b[0;34m.\u001b[0m\u001b[0m_attach\u001b[0m\u001b[0;34m(\u001b[0m\u001b[0max\u001b[0m\u001b[0;34m,\u001b[0m \u001b[0mallowed_types\u001b[0m\u001b[0;34m=\u001b[0m\u001b[0;34m[\u001b[0m\u001b[0;34m\"numeric\"\u001b[0m\u001b[0;34m,\u001b[0m \u001b[0;34m\"datetime\"\u001b[0m\u001b[0;34m]\u001b[0m\u001b[0;34m,\u001b[0m \u001b[0mlog_scale\u001b[0m\u001b[0;34m=\u001b[0m\u001b[0mlog_scale\u001b[0m\u001b[0;34m)\u001b[0m\u001b[0;34m\u001b[0m\u001b[0;34m\u001b[0m\u001b[0m\n\u001b[0m\u001b[1;32m   1721\u001b[0m \u001b[0;34m\u001b[0m\u001b[0m\n\u001b[1;32m   1722\u001b[0m     \u001b[0;32mif\u001b[0m \u001b[0mp\u001b[0m\u001b[0;34m.\u001b[0m\u001b[0munivariate\u001b[0m\u001b[0;34m:\u001b[0m\u001b[0;34m\u001b[0m\u001b[0;34m\u001b[0m\u001b[0m\n",
      "\u001b[0;32m/opt/anaconda3/lib/python3.7/site-packages/seaborn/_core.py\u001b[0m in \u001b[0;36m_attach\u001b[0;34m(self, obj, allowed_types, log_scale)\u001b[0m\n\u001b[1;32m   1116\u001b[0m                     \u001b[0;34mf\"{allowed_types} is required\"\u001b[0m\u001b[0;34m\u001b[0m\u001b[0;34m\u001b[0m\u001b[0m\n\u001b[1;32m   1117\u001b[0m                 )\n\u001b[0;32m-> 1118\u001b[0;31m                 \u001b[0;32mraise\u001b[0m \u001b[0mTypeError\u001b[0m\u001b[0;34m(\u001b[0m\u001b[0merr\u001b[0m\u001b[0;34m)\u001b[0m\u001b[0;34m\u001b[0m\u001b[0;34m\u001b[0m\u001b[0m\n\u001b[0m\u001b[1;32m   1119\u001b[0m \u001b[0;34m\u001b[0m\u001b[0m\n\u001b[1;32m   1120\u001b[0m             \u001b[0;31m# Register with the matplotlib unit conversion machinery\u001b[0m\u001b[0;34m\u001b[0m\u001b[0;34m\u001b[0m\u001b[0;34m\u001b[0m\u001b[0m\n",
      "\u001b[0;31mTypeError\u001b[0m: The x variable is categorical, but one of ['numeric', 'datetime'] is required"
     ]
    },
    {
     "data": {
      "image/png": "[encoded data removed]",
      "text/plain": [
       "<Figure size 1296x1296 with 10 Axes>"
      ]
     },
     "metadata": {},
     "output_type": "display_data"
    }
   ],
   "source": [
    "# we have successfully redistributed the unknowns!  Now for the\n",
    "# visualizations and correlation matrices, etc\n",
    "\n",
    "fig = plt.figure(figsize=(18,18))\n",
    "gs = fig.add_gridspec(5,2)\n",
    "gs.update(wspace=0.5, hspace=0.5)\n",
    "ax0 = fig.add_subplot(gs[0,0])\n",
    "ax1 = fig.add_subplot(gs[0,1])\n",
    "ax2 = fig.add_subplot(gs[1,0])\n",
    "ax3 = fig.add_subplot(gs[1,1])\n",
    "ax4 = fig.add_subplot(gs[2,0])\n",
    "ax5 = fig.add_subplot(gs[2,1])\n",
    "ax6 = fig.add_subplot(gs[3,0])\n",
    "ax7 = fig.add_subplot(gs[3,1])\n",
    "ax8 = fig.add_subplot(gs[4,0])\n",
    "ax9 = fig.add_subplot(gs[4,1])\n",
    "\n",
    "background_color = \"#ffe6e6\"\n",
    "color_palette = [\"#800000\",\"#8000ff\",\"#6aac90\",\"#5833ff\",\"#da8829\"]\n",
    "fig.patch.set_facecolor(background_color) \n",
    "ax0.set_facecolor(background_color) \n",
    "ax1.set_facecolor(background_color) \n",
    "ax2.set_facecolor(background_color)\n",
    "ax3.set_facecolor(background_color)\n",
    "ax4.set_facecolor(background_color)\n",
    "ax5.set_facecolor(background_color) \n",
    "ax6.set_facecolor(background_color) \n",
    "ax7.set_facecolor(background_color)\n",
    "ax8.set_facecolor(background_color)\n",
    "ax9.set_facecolor(background_color)\n",
    "\n",
    "# Age title\n",
    "ax0.text(0.5,0.5,\"Distribution of age\\naccording to\\n target variable\\n___________\",\n",
    "        horizontalalignment = 'center',\n",
    "        verticalalignment = 'center',\n",
    "        fontsize = 18,\n",
    "        fontweight='bold',\n",
    "        fontfamily='serif',\n",
    "        color='#000000')\n",
    "ax0.spines[\"bottom\"].set_visible(False)\n",
    "ax0.set_xticklabels([])\n",
    "ax0.set_yticklabels([])\n",
    "ax0.tick_params(left=False, bottom=False)\n",
    "\n",
    "# Age\n",
    "ax1.grid(color='#000000', linestyle=':', axis='y', zorder=0,  dashes=(1,5))\n",
    "sns.kdeplot(ax=ax1, data=data_df, x='age',hue=\"stroke\", fill=True, alpha=.5, linewidth=0)\n",
    "ax1.set_xlabel(\"\")\n",
    "ax1.set_ylabel(\"\")\n",
    "\n",
    "# Sex title\n",
    "ax2.text(0.5,0.5,\"Distribution of sex\\naccording to\\n target variable\\n___________\",\n",
    "        horizontalalignment = 'center',\n",
    "        verticalalignment = 'center',\n",
    "        fontsize = 18,\n",
    "        fontweight='bold',\n",
    "        fontfamily='serif',\n",
    "        color='#000000')\n",
    "ax2.spines[\"bottom\"].set_visible(False)\n",
    "ax2.set_xticklabels([])\n",
    "ax2.set_yticklabels([])\n",
    "ax2.tick_params(left=False, bottom=False)\n",
    "\n",
    "# Sex\n",
    "ax3.grid(color='#000000', linestyle=':', axis='y', zorder=0,  dashes=(1,5))\n",
    "sns.kdeplot(ax=ax3, data=data_df, x='sex',hue=\"stroke\", fill=True, alpha=.5, linewidth=0)\n",
    "ax3.set_xlabel(\"\")\n",
    "ax3.set_ylabel(\"\")\n",
    "\n",
    "# Hypertension title\n",
    "ax4.text(0.5,0.5,\"Distribution of hyptertension\\naccording to\\n target variable\\n___________\",\n",
    "        horizontalalignment = 'center',\n",
    "        verticalalignment = 'center',\n",
    "        fontsize = 18,\n",
    "        fontweight='bold',\n",
    "        fontfamily='serif',\n",
    "        color='#000000')\n",
    "ax4.spines[\"bottom\"].set_visible(False)\n",
    "ax4.set_xticklabels([])\n",
    "ax4.set_yticklabels([])\n",
    "ax4.tick_params(left=False, bottom=False)\n",
    "\n",
    "# Hypertension\n",
    "ax5.grid(color='#000000', linestyle=':', axis='y', zorder=0,  dashes=(1,5))\n",
    "sns.kdeplot(ax=ax5, data=data_df, x='hypertension',hue=\"hyptertension\", fill=True, alpha=.5, linewidth=0)\n",
    "ax5.set_xlabel(\"\")\n",
    "ax5.set_ylabel(\"\")\n",
    "\n",
    "# Heart disease title\n",
    "ax6.text(0.5,0.5,\"Distribution of heart disease\\naccording to\\n target variable\\n___________\",\n",
    "        horizontalalignment = 'center',\n",
    "        verticalalignment = 'center',\n",
    "        fontsize = 18,\n",
    "        fontweight='bold',\n",
    "        fontfamily='serif',\n",
    "        color='#000000')\n",
    "ax6.spines[\"bottom\"].set_visible(False)\n",
    "ax6.set_xticklabels([])\n",
    "ax6.set_yticklabels([])\n",
    "ax6.tick_params(left=False, bottom=False)\n",
    "\n",
    "# Heart disease\n",
    "ax7.grid(color='#000000', linestyle=':', axis='y', zorder=0,  dashes=(1,5))\n",
    "sns.kdeplot(ax=ax7, data=data_df, x='heart_disease',hue=\"stroke\", fill=True, alpha=.5, linewidth=0)\n",
    "ax7.set_xlabel(\"\")\n",
    "ax7.set_ylabel(\"\")\n",
    "\n",
    "# Average glucose level title\n",
    "ax8.text(0.5,0.5,\"Distribution of average glucose level\\naccording to\\n target variable\\n___________\",\n",
    "        horizontalalignment = 'center',\n",
    "        verticalalignment = 'center',\n",
    "        fontsize = 18,\n",
    "        fontweight='bold',\n",
    "        fontfamily='serif',\n",
    "        color='#000000')\n",
    "ax8.spines[\"bottom\"].set_visible(False)\n",
    "ax8.set_xticklabels([])\n",
    "ax8.set_yticklabels([])\n",
    "ax8.tick_params(left=False, bottom=False)\n",
    "\n",
    "# Average Glucose Level\n",
    "ax9.grid(color='#000000', linestyle=':', axis='y', zorder=0,  dashes=(1,5))\n",
    "sns.kdeplot(ax=ax9, data=data_df, x='avg_glucose_level',hue=\"stroke\", fill=True, alpha=.5, linewidth=0)\n",
    "ax9.set_xlabel(\"\")\n",
    "ax9.set_ylabel(\"\")\n",
    "\n",
    "for i in [\"top\",\"left\",\"right\"]:\n",
    "    ax0.spines[i].set_visible(False)\n",
    "    ax1.spines[i].set_visible(False)\n",
    "    ax2.spines[i].set_visible(False)\n",
    "    ax3.spines[i].set_visible(False)\n",
    "    ax4.spines[i].set_visible(False)\n",
    "    ax5.spines[i].set_visible(False)\n",
    "    ax6.spines[i].set_visible(False)\n",
    "    ax7.spines[i].set_visible(False)\n",
    "    ax8.spines[i].set_visible(False)\n",
    "    ax9.spines[i].set_visible(False)"
   ]
  },
  {
   "cell_type": "code",
   "execution_count": 39,
   "metadata": {
    "scrolled": true
   },
   "outputs": [
    {
     "data": {
      "text/html": [
       "<div>\n",
       "<style scoped>\n",
       "    .dataframe tbody tr th:only-of-type {\n",
       "        vertical-align: middle;\n",
       "    }\n",
       "\n",
       "    .dataframe tbody tr th {\n",
       "        vertical-align: top;\n",
       "    }\n",
       "\n",
       "    .dataframe thead th {\n",
       "        text-align: right;\n",
       "    }\n",
       "</style>\n",
       "<table border=\"1\" class=\"dataframe\">\n",
       "  <thead>\n",
       "    <tr style=\"text-align: right;\">\n",
       "      <th></th>\n",
       "      <th>unique count</th>\n",
       "    </tr>\n",
       "  </thead>\n",
       "  <tbody>\n",
       "    <tr>\n",
       "      <th>id</th>\n",
       "      <td>4908</td>\n",
       "    </tr>\n",
       "    <tr>\n",
       "      <th>sex</th>\n",
       "      <td>2</td>\n",
       "    </tr>\n",
       "    <tr>\n",
       "      <th>age</th>\n",
       "      <td>93</td>\n",
       "    </tr>\n",
       "    <tr>\n",
       "      <th>hypertension</th>\n",
       "      <td>2</td>\n",
       "    </tr>\n",
       "    <tr>\n",
       "      <th>heart_disease</th>\n",
       "      <td>2</td>\n",
       "    </tr>\n",
       "    <tr>\n",
       "      <th>ever_married</th>\n",
       "      <td>2</td>\n",
       "    </tr>\n",
       "    <tr>\n",
       "      <th>work_type</th>\n",
       "      <td>5</td>\n",
       "    </tr>\n",
       "    <tr>\n",
       "      <th>Residence_type</th>\n",
       "      <td>2</td>\n",
       "    </tr>\n",
       "    <tr>\n",
       "      <th>avg_glucose_level</th>\n",
       "      <td>3851</td>\n",
       "    </tr>\n",
       "    <tr>\n",
       "      <th>bmi</th>\n",
       "      <td>418</td>\n",
       "    </tr>\n",
       "    <tr>\n",
       "      <th>smoking_status</th>\n",
       "      <td>3</td>\n",
       "    </tr>\n",
       "    <tr>\n",
       "      <th>stroke</th>\n",
       "      <td>2</td>\n",
       "    </tr>\n",
       "  </tbody>\n",
       "</table>\n",
       "</div>"
      ],
      "text/plain": [
       "                   unique count\n",
       "id                         4908\n",
       "sex                           2\n",
       "age                          93\n",
       "hypertension                  2\n",
       "heart_disease                 2\n",
       "ever_married                  2\n",
       "work_type                     5\n",
       "Residence_type                2\n",
       "avg_glucose_level          3851\n",
       "bmi                         418\n",
       "smoking_status                3\n",
       "stroke                        2"
      ]
     },
     "execution_count": 39,
     "metadata": {},
     "output_type": "execute_result"
    }
   ],
   "source": [
    "# once again, let's get a unique count of values for each column to\n",
    "# determine whether the column is continuous or categorical\n",
    "\n",
    "column_dict = {}\n",
    "for column in list(data_df.columns):\n",
    "    column_dict[column] = data_df[column].value_counts().shape[0]\n",
    "    \n",
    "pd.DataFrame(column_dict, index = ['unique count']).transpose()"
   ]
  },
  {
   "cell_type": "code",
   "execution_count": 40,
   "metadata": {},
   "outputs": [
    {
     "name": "stdout",
     "output_type": "stream",
     "text": [
      "the categorical columns are:  ['sex', 'hypertension', 'heart_disease', 'ever_married', 'work_type', 'Residence_type', 'smoking_status']\n",
      "the continuous columns are:  ['age', 'avg_glucose_level', 'bmi']\n",
      "the target column is:  ['stroke']\n"
     ]
    }
   ],
   "source": [
    "# first thing we want to do is determine the categorical and continuous\n",
    "# categories, so we will go ahead and do that now\n",
    "\n",
    "cat_cols = ['sex',\n",
    "            'hypertension',\n",
    "            'heart_disease',\n",
    "            'ever_married',\n",
    "            'work_type',\n",
    "           'Residence_type',\n",
    "           'smoking_status']\n",
    "con_cols = ['age','avg_glucose_level','bmi']\n",
    "target_col = ['stroke']\n",
    "print('the categorical columns are: ',cat_cols)\n",
    "print('the continuous columns are: ', con_cols)\n",
    "print('the target column is: ', target_col)"
   ]
  },
  {
   "cell_type": "markdown",
   "metadata": {},
   "source": [
    "### ML Prep"
   ]
  },
  {
   "cell_type": "code",
   "execution_count": 41,
   "metadata": {},
   "outputs": [
    {
     "name": "stdout",
     "output_type": "stream",
     "text": [
      "packages imported...\n"
     ]
    }
   ],
   "source": [
    "# PACKAGES\n",
    "\n",
    "# Scaling\n",
    "from sklearn.preprocessing import RobustScaler\n",
    "\n",
    "# Train Test Split\n",
    "from sklearn.model_selection import train_test_split\n",
    "\n",
    "# Models\n",
    "import torch\n",
    "import torch.nn as nn\n",
    "from sklearn.svm import SVC\n",
    "from sklearn.linear_model import LogisticRegression\n",
    "from sklearn.ensemble import RandomForestClassifier\n",
    "from sklearn.tree import DecisionTreeClassifier\n",
    "from sklearn.ensemble import GradientBoostingClassifier\n",
    "\n",
    "# Metrics\n",
    "from sklearn.metrics import accuracy_score, classification_report, roc_curve\n",
    "\n",
    "# Cross Validation\n",
    "from sklearn.model_selection import cross_val_score\n",
    "from sklearn.model_selection import GridSearchCV\n",
    "\n",
    "print('packages imported...')"
   ]
  },
  {
   "cell_type": "code",
   "execution_count": 42,
   "metadata": {},
   "outputs": [
    {
     "data": {
      "text/html": [
       "<div>\n",
       "<style scoped>\n",
       "    .dataframe tbody tr th:only-of-type {\n",
       "        vertical-align: middle;\n",
       "    }\n",
       "\n",
       "    .dataframe tbody tr th {\n",
       "        vertical-align: top;\n",
       "    }\n",
       "\n",
       "    .dataframe thead th {\n",
       "        text-align: right;\n",
       "    }\n",
       "</style>\n",
       "<table border=\"1\" class=\"dataframe\">\n",
       "  <thead>\n",
       "    <tr style=\"text-align: right;\">\n",
       "      <th></th>\n",
       "      <th>id</th>\n",
       "      <th>age</th>\n",
       "      <th>avg_glucose_level</th>\n",
       "      <th>bmi</th>\n",
       "      <th>sex_Male</th>\n",
       "      <th>hypertension_1</th>\n",
       "      <th>heart_disease_1</th>\n",
       "      <th>ever_married_Yes</th>\n",
       "      <th>work_type_Never_worked</th>\n",
       "      <th>work_type_Private</th>\n",
       "      <th>work_type_Self-employed</th>\n",
       "      <th>work_type_children</th>\n",
       "      <th>Residence_type_Urban</th>\n",
       "      <th>smoking_status_never smoked</th>\n",
       "      <th>smoking_status_smokes</th>\n",
       "    </tr>\n",
       "  </thead>\n",
       "  <tbody>\n",
       "    <tr>\n",
       "      <th>0</th>\n",
       "      <td>9046</td>\n",
       "      <td>0.657143</td>\n",
       "      <td>3.761169</td>\n",
       "      <td>0.885417</td>\n",
       "      <td>1</td>\n",
       "      <td>0</td>\n",
       "      <td>1</td>\n",
       "      <td>1</td>\n",
       "      <td>0</td>\n",
       "      <td>1</td>\n",
       "      <td>0</td>\n",
       "      <td>0</td>\n",
       "      <td>1</td>\n",
       "      <td>0</td>\n",
       "      <td>0</td>\n",
       "    </tr>\n",
       "    <tr>\n",
       "      <th>2</th>\n",
       "      <td>31112</td>\n",
       "      <td>1.028571</td>\n",
       "      <td>0.390913</td>\n",
       "      <td>0.458333</td>\n",
       "      <td>1</td>\n",
       "      <td>0</td>\n",
       "      <td>1</td>\n",
       "      <td>1</td>\n",
       "      <td>0</td>\n",
       "      <td>1</td>\n",
       "      <td>0</td>\n",
       "      <td>0</td>\n",
       "      <td>0</td>\n",
       "      <td>1</td>\n",
       "      <td>0</td>\n",
       "    </tr>\n",
       "    <tr>\n",
       "      <th>3</th>\n",
       "      <td>60182</td>\n",
       "      <td>0.142857</td>\n",
       "      <td>2.183790</td>\n",
       "      <td>0.656250</td>\n",
       "      <td>0</td>\n",
       "      <td>0</td>\n",
       "      <td>0</td>\n",
       "      <td>1</td>\n",
       "      <td>0</td>\n",
       "      <td>1</td>\n",
       "      <td>0</td>\n",
       "      <td>0</td>\n",
       "      <td>1</td>\n",
       "      <td>0</td>\n",
       "      <td>1</td>\n",
       "    </tr>\n",
       "    <tr>\n",
       "      <th>4</th>\n",
       "      <td>1665</td>\n",
       "      <td>1.000000</td>\n",
       "      <td>2.263125</td>\n",
       "      <td>-0.427083</td>\n",
       "      <td>0</td>\n",
       "      <td>1</td>\n",
       "      <td>0</td>\n",
       "      <td>1</td>\n",
       "      <td>0</td>\n",
       "      <td>0</td>\n",
       "      <td>1</td>\n",
       "      <td>0</td>\n",
       "      <td>0</td>\n",
       "      <td>1</td>\n",
       "      <td>0</td>\n",
       "    </tr>\n",
       "    <tr>\n",
       "      <th>5</th>\n",
       "      <td>56669</td>\n",
       "      <td>1.057143</td>\n",
       "      <td>2.595018</td>\n",
       "      <td>0.093750</td>\n",
       "      <td>1</td>\n",
       "      <td>0</td>\n",
       "      <td>0</td>\n",
       "      <td>1</td>\n",
       "      <td>0</td>\n",
       "      <td>1</td>\n",
       "      <td>0</td>\n",
       "      <td>0</td>\n",
       "      <td>1</td>\n",
       "      <td>0</td>\n",
       "      <td>0</td>\n",
       "    </tr>\n",
       "  </tbody>\n",
       "</table>\n",
       "</div>"
      ],
      "text/plain": [
       "      id       age  avg_glucose_level       bmi  sex_Male  hypertension_1  \\\n",
       "0   9046  0.657143           3.761169  0.885417         1               0   \n",
       "2  31112  1.028571           0.390913  0.458333         1               0   \n",
       "3  60182  0.142857           2.183790  0.656250         0               0   \n",
       "4   1665  1.000000           2.263125 -0.427083         0               1   \n",
       "5  56669  1.057143           2.595018  0.093750         1               0   \n",
       "\n",
       "   heart_disease_1  ever_married_Yes  work_type_Never_worked  \\\n",
       "0                1                 1                       0   \n",
       "2                1                 1                       0   \n",
       "3                0                 1                       0   \n",
       "4                0                 1                       0   \n",
       "5                0                 1                       0   \n",
       "\n",
       "   work_type_Private  work_type_Self-employed  work_type_children  \\\n",
       "0                  1                        0                   0   \n",
       "2                  1                        0                   0   \n",
       "3                  1                        0                   0   \n",
       "4                  0                        1                   0   \n",
       "5                  1                        0                   0   \n",
       "\n",
       "   Residence_type_Urban  smoking_status_never smoked  smoking_status_smokes  \n",
       "0                     1                            0                      0  \n",
       "2                     0                            1                      0  \n",
       "3                     1                            0                      1  \n",
       "4                     0                            1                      0  \n",
       "5                     1                            0                      0  "
      ]
     },
     "execution_count": 42,
     "metadata": {},
     "output_type": "execute_result"
    }
   ],
   "source": [
    "# DATA COLUMN PREP\n",
    "\n",
    "# Create a copy of data_df to process for ML\n",
    "ML_df = data_df\n",
    "\n",
    "# Encode the categorical columns that we defined up above\n",
    "ML_df = pd.get_dummies(ML_df, columns = cat_cols, drop_first = True)\n",
    "\n",
    "\n",
    "# Defining the features and target\n",
    "X = ML_df.drop(['stroke'], axis = 1)\n",
    "y = ML_df[['stroke']]\n",
    "\n",
    "# Instantiating the scaler\n",
    "scaler = RobustScaler()\n",
    "\n",
    "# Scaling the continuous features\n",
    "X[con_cols] = scaler.fit_transform(X[con_cols])\n",
    "\n",
    "X.head()"
   ]
  },
  {
   "cell_type": "code",
   "execution_count": 43,
   "metadata": {},
   "outputs": [
    {
     "name": "stdout",
     "output_type": "stream",
     "text": [
      "The shape of X_train is:  (3926, 15)\n",
      "The shape of y_train is:  (3926, 1)\n",
      "The shape of x_test is:  (982, 15)\n",
      "The shape of y_test is:  (982, 1)\n"
     ]
    }
   ],
   "source": [
    "# TRAIN TEST SPLIT\n",
    "\n",
    "X_train, X_test, y_train, y_test = train_test_split(X,\n",
    "                                                    y,\n",
    "                                                    test_size = 0.2,\n",
    "                                                    random_state = 42)\n",
    "\n",
    "print(\"The shape of X_train is: \", X_train.shape)\n",
    "print(\"The shape of y_train is: \", y_train.shape)\n",
    "print(\"The shape of x_test is: \", X_test.shape)\n",
    "print(\"The shape of y_test is: \", y_test.shape)"
   ]
  },
  {
   "cell_type": "markdown",
   "metadata": {},
   "source": [
    "### Modelling"
   ]
  },
  {
   "cell_type": "markdown",
   "metadata": {},
   "source": [
    "#### Linear Classifiers"
   ]
  },
  {
   "cell_type": "code",
   "execution_count": 44,
   "metadata": {},
   "outputs": [
    {
     "data": {
      "text/html": [
       "<div>\n",
       "<style scoped>\n",
       "    .dataframe tbody tr th:only-of-type {\n",
       "        vertical-align: middle;\n",
       "    }\n",
       "\n",
       "    .dataframe tbody tr th {\n",
       "        vertical-align: top;\n",
       "    }\n",
       "\n",
       "    .dataframe thead th {\n",
       "        text-align: right;\n",
       "    }\n",
       "</style>\n",
       "<table border=\"1\" class=\"dataframe\">\n",
       "  <thead>\n",
       "    <tr style=\"text-align: right;\">\n",
       "      <th></th>\n",
       "      <th>id</th>\n",
       "      <th>age</th>\n",
       "      <th>avg_glucose_level</th>\n",
       "      <th>bmi</th>\n",
       "      <th>sex_Male</th>\n",
       "      <th>hypertension_1</th>\n",
       "      <th>heart_disease_1</th>\n",
       "      <th>ever_married_Yes</th>\n",
       "      <th>work_type_Never_worked</th>\n",
       "      <th>work_type_Private</th>\n",
       "      <th>work_type_Self-employed</th>\n",
       "      <th>work_type_children</th>\n",
       "      <th>Residence_type_Urban</th>\n",
       "      <th>smoking_status_never smoked</th>\n",
       "      <th>smoking_status_smokes</th>\n",
       "    </tr>\n",
       "  </thead>\n",
       "  <tbody>\n",
       "    <tr>\n",
       "      <th>3565</th>\n",
       "      <td>68302</td>\n",
       "      <td>-0.114286</td>\n",
       "      <td>-0.711276</td>\n",
       "      <td>0.322917</td>\n",
       "      <td>0</td>\n",
       "      <td>0</td>\n",
       "      <td>0</td>\n",
       "      <td>1</td>\n",
       "      <td>0</td>\n",
       "      <td>1</td>\n",
       "      <td>0</td>\n",
       "      <td>0</td>\n",
       "      <td>1</td>\n",
       "      <td>1</td>\n",
       "      <td>0</td>\n",
       "    </tr>\n",
       "    <tr>\n",
       "      <th>898</th>\n",
       "      <td>62716</td>\n",
       "      <td>0.428571</td>\n",
       "      <td>-0.275616</td>\n",
       "      <td>0.489583</td>\n",
       "      <td>0</td>\n",
       "      <td>0</td>\n",
       "      <td>0</td>\n",
       "      <td>1</td>\n",
       "      <td>0</td>\n",
       "      <td>0</td>\n",
       "      <td>1</td>\n",
       "      <td>0</td>\n",
       "      <td>1</td>\n",
       "      <td>0</td>\n",
       "      <td>1</td>\n",
       "    </tr>\n",
       "    <tr>\n",
       "      <th>2706</th>\n",
       "      <td>38796</td>\n",
       "      <td>0.285714</td>\n",
       "      <td>0.223732</td>\n",
       "      <td>-0.562500</td>\n",
       "      <td>0</td>\n",
       "      <td>0</td>\n",
       "      <td>0</td>\n",
       "      <td>1</td>\n",
       "      <td>0</td>\n",
       "      <td>1</td>\n",
       "      <td>0</td>\n",
       "      <td>0</td>\n",
       "      <td>1</td>\n",
       "      <td>0</td>\n",
       "      <td>0</td>\n",
       "    </tr>\n",
       "    <tr>\n",
       "      <th>4198</th>\n",
       "      <td>4148</td>\n",
       "      <td>1.057143</td>\n",
       "      <td>-0.562762</td>\n",
       "      <td>-0.437500</td>\n",
       "      <td>1</td>\n",
       "      <td>0</td>\n",
       "      <td>0</td>\n",
       "      <td>1</td>\n",
       "      <td>0</td>\n",
       "      <td>0</td>\n",
       "      <td>1</td>\n",
       "      <td>0</td>\n",
       "      <td>1</td>\n",
       "      <td>0</td>\n",
       "      <td>0</td>\n",
       "    </tr>\n",
       "    <tr>\n",
       "      <th>3527</th>\n",
       "      <td>61672</td>\n",
       "      <td>-0.942857</td>\n",
       "      <td>-0.603939</td>\n",
       "      <td>-1.427083</td>\n",
       "      <td>0</td>\n",
       "      <td>0</td>\n",
       "      <td>0</td>\n",
       "      <td>0</td>\n",
       "      <td>0</td>\n",
       "      <td>0</td>\n",
       "      <td>0</td>\n",
       "      <td>1</td>\n",
       "      <td>1</td>\n",
       "      <td>0</td>\n",
       "      <td>1</td>\n",
       "    </tr>\n",
       "  </tbody>\n",
       "</table>\n",
       "</div>"
      ],
      "text/plain": [
       "         id       age  avg_glucose_level       bmi  sex_Male  hypertension_1  \\\n",
       "3565  68302 -0.114286          -0.711276  0.322917         0               0   \n",
       "898   62716  0.428571          -0.275616  0.489583         0               0   \n",
       "2706  38796  0.285714           0.223732 -0.562500         0               0   \n",
       "4198   4148  1.057143          -0.562762 -0.437500         1               0   \n",
       "3527  61672 -0.942857          -0.603939 -1.427083         0               0   \n",
       "\n",
       "      heart_disease_1  ever_married_Yes  work_type_Never_worked  \\\n",
       "3565                0                 1                       0   \n",
       "898                 0                 1                       0   \n",
       "2706                0                 1                       0   \n",
       "4198                0                 1                       0   \n",
       "3527                0                 0                       0   \n",
       "\n",
       "      work_type_Private  work_type_Self-employed  work_type_children  \\\n",
       "3565                  1                        0                   0   \n",
       "898                   0                        1                   0   \n",
       "2706                  1                        0                   0   \n",
       "4198                  0                        1                   0   \n",
       "3527                  0                        0                   1   \n",
       "\n",
       "      Residence_type_Urban  smoking_status_never smoked  smoking_status_smokes  \n",
       "3565                     1                            1                      0  \n",
       "898                      1                            0                      1  \n",
       "2706                     1                            0                      0  \n",
       "4198                     1                            0                      0  \n",
       "3527                     1                            0                      1  "
      ]
     },
     "execution_count": 44,
     "metadata": {},
     "output_type": "execute_result"
    }
   ],
   "source": [
    "X_train.head()"
   ]
  },
  {
   "cell_type": "code",
   "execution_count": 45,
   "metadata": {},
   "outputs": [
    {
     "data": {
      "text/html": [
       "<div>\n",
       "<style scoped>\n",
       "    .dataframe tbody tr th:only-of-type {\n",
       "        vertical-align: middle;\n",
       "    }\n",
       "\n",
       "    .dataframe tbody tr th {\n",
       "        vertical-align: top;\n",
       "    }\n",
       "\n",
       "    .dataframe thead th {\n",
       "        text-align: right;\n",
       "    }\n",
       "</style>\n",
       "<table border=\"1\" class=\"dataframe\">\n",
       "  <thead>\n",
       "    <tr style=\"text-align: right;\">\n",
       "      <th></th>\n",
       "      <th>stroke</th>\n",
       "    </tr>\n",
       "  </thead>\n",
       "  <tbody>\n",
       "    <tr>\n",
       "      <th>3565</th>\n",
       "      <td>0</td>\n",
       "    </tr>\n",
       "    <tr>\n",
       "      <th>898</th>\n",
       "      <td>0</td>\n",
       "    </tr>\n",
       "    <tr>\n",
       "      <th>2706</th>\n",
       "      <td>0</td>\n",
       "    </tr>\n",
       "    <tr>\n",
       "      <th>4198</th>\n",
       "      <td>0</td>\n",
       "    </tr>\n",
       "    <tr>\n",
       "      <th>3527</th>\n",
       "      <td>0</td>\n",
       "    </tr>\n",
       "  </tbody>\n",
       "</table>\n",
       "</div>"
      ],
      "text/plain": [
       "      stroke\n",
       "3565       0\n",
       "898        0\n",
       "2706       0\n",
       "4198       0\n",
       "3527       0"
      ]
     },
     "execution_count": 45,
     "metadata": {},
     "output_type": "execute_result"
    }
   ],
   "source": [
    "y_train.head()"
   ]
  },
  {
   "cell_type": "code",
   "execution_count": 46,
   "metadata": {},
   "outputs": [
    {
     "data": {
      "text/plain": [
       "stroke    0\n",
       "dtype: int64"
      ]
     },
     "execution_count": 46,
     "metadata": {},
     "output_type": "execute_result"
    }
   ],
   "source": [
    "y_train.isnull().sum()"
   ]
  },
  {
   "cell_type": "code",
   "execution_count": 47,
   "metadata": {},
   "outputs": [
    {
     "data": {
      "text/plain": [
       "id                             0\n",
       "age                            0\n",
       "avg_glucose_level              0\n",
       "bmi                            0\n",
       "sex_Male                       0\n",
       "hypertension_1                 0\n",
       "heart_disease_1                0\n",
       "ever_married_Yes               0\n",
       "work_type_Never_worked         0\n",
       "work_type_Private              0\n",
       "work_type_Self-employed        0\n",
       "work_type_children             0\n",
       "Residence_type_Urban           0\n",
       "smoking_status_never smoked    0\n",
       "smoking_status_smokes          0\n",
       "dtype: int64"
      ]
     },
     "execution_count": 47,
     "metadata": {},
     "output_type": "execute_result"
    }
   ],
   "source": [
    "X_train.isnull().sum()"
   ]
  },
  {
   "cell_type": "code",
   "execution_count": 52,
   "metadata": {},
   "outputs": [
    {
     "name": "stdout",
     "output_type": "stream",
     "text": [
      "[LibSVM]The test accuracy score of SVM is  0.9460285132382892\n"
     ]
    }
   ],
   "source": [
    "# INITIAL RUN OF SVC\n",
    "\n",
    "# Instantiating the object and fitting\n",
    "clf = SVC(kernel = 'linear',\n",
    "          C=1,\n",
    "          random_state = 42,\n",
    "          verbose = True).fit(X_train, y_train)\n",
    "\n",
    "# Predicting the values\n",
    "y_pred = clf.predict(X_test)\n",
    "\n",
    "# Print the test accuracy\n",
    "print('The test accuracy score of SVM is ', accuracy_score(y_test, y_pred))"
   ]
  },
  {
   "cell_type": "code",
   "execution_count": 57,
   "metadata": {},
   "outputs": [
    {
     "name": "stdout",
     "output_type": "stream",
     "text": [
      "Fitting 5 folds for each of 90 candidates, totalling 450 fits\n",
      "The best parameters are:  {'C': 1, 'gamma': 1e-05}\n",
      "The best score is:  0.9602651496734251\n",
      "The test accuracy score of svm after hyper-parameter tuning is:  0.9460285132382892\n"
     ]
    }
   ],
   "source": [
    "# HYPERPARAMETER TUNING OF SVC\n",
    "\n",
    "# Instantiating the object\n",
    "svm = SVC()\n",
    "\n",
    "# Setting a grid - not so extensive\n",
    "parameters = {'C':np.arange(1, 10, 1),\n",
    "             'gamma':[0.00001,\n",
    "                     0.00005,\n",
    "                     0.0001,\n",
    "                     0.0005,\n",
    "                     0.01,\n",
    "                     0.05,\n",
    "                     0.1,\n",
    "                     0.5,\n",
    "                     1,\n",
    "                     5]}\n",
    "\n",
    "# Instantiating the GridSearchCV object\n",
    "searcher = GridSearchCV(svm, parameters, verbose = 1)\n",
    "\n",
    "# Fitting the object\n",
    "searcher.fit(X_train, y_train)\n",
    "\n",
    "# The scores\n",
    "print('The best parameters are: ', searcher.best_params_)\n",
    "print('The best score is: ', searcher.best_score_)\n",
    "\n",
    "# Predicting the values\n",
    "y_pred = searcher.predict(X_test)\n",
    "\n",
    "# Printing the test accuracy\n",
    "print('The test accuracy score of svm after hyper-parameter tuning is: ',\n",
    "     accuracy_score(y_test, y_pred))"
   ]
  },
  {
   "cell_type": "code",
   "execution_count": 58,
   "metadata": {},
   "outputs": [
    {
     "name": "stdout",
     "output_type": "stream",
     "text": [
      "The test accuracy score of Logistic Regression is:  0.9470468431771895\n"
     ]
    }
   ],
   "source": [
    "# LOGISTIC REGRESSION\n",
    "\n",
    "# Instantiating the object\n",
    "logreg = LogisticRegression()\n",
    "\n",
    "# Fitting the object\n",
    "logreg.fit(X_train, y_train)\n",
    "\n",
    "# Calculating the probabilities\n",
    "y_pred_proba = logreg.predict_proba(X_test)\n",
    "\n",
    "# Finding the predicted values\n",
    "y_pred = np.argmax(y_pred_proba, axis = 1)\n",
    "\n",
    "# Printing the test accuracy\n",
    "print('The test accuracy score of Logistic Regression is: ',\n",
    "     accuracy_score(y_test, y_pred))"
   ]
  },
  {
   "cell_type": "code",
   "execution_count": 60,
   "metadata": {},
   "outputs": [
    {
     "data": {
      "image/png": "[encoded data removed]",
      "text/plain": [
       "<Figure size 432x288 with 1 Axes>"
      ]
     },
     "metadata": {
      "needs_background": "light"
     },
     "output_type": "display_data"
    }
   ],
   "source": [
    "# ROC CURVE\n",
    "\n",
    "# Calculating the probabilities\n",
    "y_pred_proba = logreg.predict_proba(X_test)[:, 1]\n",
    "\n",
    "# Instantiating the roc_curve\n",
    "fpr, tpr, threshold = roc_curve(y_test, y_pred_proba)\n",
    "\n",
    "# Plotting the curve\n",
    "plt.plot([0, 1], [0, 1], 'k--', 'r+')\n",
    "plt.plot(fpr, tpr, label = 'Logistic Regression')\n",
    "plt.xlabel('False Positive Rate')\n",
    "plt.ylabel('True Postivive Rate')\n",
    "plt.title('Logistic Regression ROC Curve')\n",
    "plt.show()"
   ]
  },
  {
   "cell_type": "markdown",
   "metadata": {},
   "source": [
    "#### Tree Models"
   ]
  },
  {
   "cell_type": "code",
   "execution_count": 61,
   "metadata": {},
   "outputs": [
    {
     "name": "stdout",
     "output_type": "stream",
     "text": [
      "The test accuracy score of Random Forest is:  0.9073319755600815\n"
     ]
    }
   ],
   "source": [
    "# DECISION TREE\n",
    "\n",
    "# Instantiating the object\n",
    "dt = DecisionTreeClassifier(random_state = 42)\n",
    "\n",
    "# Fitting the model\n",
    "dt.fit(X_train, y_train)\n",
    "\n",
    "# Calculating the predictiions\n",
    "y_pred = dt.predict(X_test)\n",
    "\n",
    "# Printing the test accuracy\n",
    "print('The test accuracy score of Random Forest is: ',\n",
    "     accuracy_score(y_test, y_pred))"
   ]
  },
  {
   "cell_type": "code",
   "execution_count": 62,
   "metadata": {},
   "outputs": [
    {
     "name": "stdout",
     "output_type": "stream",
     "text": [
      "The test accuracy score of Gradient Boosting Classifier is:  0.9460285132382892\n"
     ]
    }
   ],
   "source": [
    "# GRADIENT BOOSTING CLASSIFIER = WITHOUT TUNING\n",
    "\n",
    "# Instantiate the classifier\n",
    "gbt = GradientBoostingClassifier(n_estimators = 300,\n",
    "                                max_depth = 1,\n",
    "                                subsample = 0.8,\n",
    "                                max_features = 0.2,\n",
    "                                random_state = 42)\n",
    "\n",
    "# Fitting the model\n",
    "gbt.fit(X_train, y_train)\n",
    "\n",
    "# Predicting the values\n",
    "y_pred = gbt.predict(X_test)\n",
    "print('The test accuracy score of Gradient Boosting Classifier is: ',\n",
    "     accuracy_score(y_test, y_pred))"
   ]
  },
  {
   "cell_type": "code",
   "execution_count": 63,
   "metadata": {},
   "outputs": [
    {
     "data": {
      "image/png": "[encoded data removed]",
      "text/plain": [
       "<Figure size 432x288 with 1 Axes>"
      ]
     },
     "metadata": {
      "needs_background": "light"
     },
     "output_type": "display_data"
    }
   ],
   "source": [
    "# ROC CURVE\n",
    "\n",
    "# Calculating the probabilities\n",
    "y_pred_proba = gbt.predict_proba(X_test)[:, 1]\n",
    "\n",
    "# Instantiating the roc_curve\n",
    "fpr, tpr, threshold = roc_curve(y_test, y_pred_proba)\n",
    "\n",
    "# Plotting the curve\n",
    "plt.plot([0, 1], [0, 1], 'k--', 'r+')\n",
    "plt.plot(fpr, tpr, label = 'Gradient Boosting Classifier')\n",
    "plt.xlabel('False Positive Rate')\n",
    "plt.ylabel('True Postivive Rate')\n",
    "plt.title('Gradient Boosting Classifier ROC Curve')\n",
    "plt.show()"
   ]
  },
  {
   "cell_type": "code",
   "execution_count": null,
   "metadata": {},
   "outputs": [],
   "source": []
  }
 ],
 "metadata": {
  "kernelspec": {
   "display_name": "Python 3",
   "language": "python",
   "name": "python3"
  },
  "language_info": {
   "codemirror_mode": {
    "name": "ipython",
    "version": 3
   },
   "file_extension": ".py",
   "mimetype": "text/x-python",
   "name": "python",
   "nbconvert_exporter": "python",
   "pygments_lexer": "ipython3",
   "version": "3.7.4"
  }
 },
 "nbformat": 4,
 "nbformat_minor": 2
}
